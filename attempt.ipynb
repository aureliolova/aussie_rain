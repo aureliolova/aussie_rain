{
 "cells": [
  {
   "cell_type": "code",
   "execution_count": 18,
   "source": [
    "from cities import get_city_data\r\n",
    "import pandas as pd"
   ],
   "outputs": [],
   "metadata": {}
  },
  {
   "cell_type": "code",
   "execution_count": 12,
   "source": [
    "data = get_city_data()"
   ],
   "outputs": [],
   "metadata": {}
  },
  {
   "cell_type": "code",
   "execution_count": 13,
   "source": [
    "data_og = data.copy()\r\n",
    "data_og.loc[:, 'key'] = 1\r\n",
    "data_cp = data.copy()\r\n",
    "data_cp.columns = ['{}_comp'.format(col) for col in data_cp.columns]\r\n",
    "data_cp.loc[:, 'key'] = 1"
   ],
   "outputs": [],
   "metadata": {}
  },
  {
   "cell_type": "code",
   "execution_count": 16,
   "source": [
    "cross_data = pd.merge(left=data_og, right=data_cp, on=['key']).drop(columns=['key'])"
   ],
   "outputs": [],
   "metadata": {}
  },
  {
   "cell_type": "code",
   "execution_count": 17,
   "source": [
    "cross_data.head()"
   ],
   "outputs": [
    {
     "output_type": "execute_result",
     "data": {
      "text/html": [
       "<div>\n",
       "<style scoped>\n",
       "    .dataframe tbody tr th:only-of-type {\n",
       "        vertical-align: middle;\n",
       "    }\n",
       "\n",
       "    .dataframe tbody tr th {\n",
       "        vertical-align: top;\n",
       "    }\n",
       "\n",
       "    .dataframe thead th {\n",
       "        text-align: right;\n",
       "    }\n",
       "</style>\n",
       "<table border=\"1\" class=\"dataframe\">\n",
       "  <thead>\n",
       "    <tr style=\"text-align: right;\">\n",
       "      <th></th>\n",
       "      <th>location</th>\n",
       "      <th>lat</th>\n",
       "      <th>lng</th>\n",
       "      <th>location_comp</th>\n",
       "      <th>lat_comp</th>\n",
       "      <th>lng_comp</th>\n",
       "    </tr>\n",
       "  </thead>\n",
       "  <tbody>\n",
       "    <tr>\n",
       "      <th>0</th>\n",
       "      <td>Sydney</td>\n",
       "      <td>-33.865</td>\n",
       "      <td>151.2094</td>\n",
       "      <td>Sydney</td>\n",
       "      <td>-33.8650</td>\n",
       "      <td>151.2094</td>\n",
       "    </tr>\n",
       "    <tr>\n",
       "      <th>1</th>\n",
       "      <td>Sydney</td>\n",
       "      <td>-33.865</td>\n",
       "      <td>151.2094</td>\n",
       "      <td>Melbourne</td>\n",
       "      <td>-37.8136</td>\n",
       "      <td>144.9631</td>\n",
       "    </tr>\n",
       "    <tr>\n",
       "      <th>2</th>\n",
       "      <td>Sydney</td>\n",
       "      <td>-33.865</td>\n",
       "      <td>151.2094</td>\n",
       "      <td>Brisbane</td>\n",
       "      <td>-27.4678</td>\n",
       "      <td>153.0281</td>\n",
       "    </tr>\n",
       "    <tr>\n",
       "      <th>3</th>\n",
       "      <td>Sydney</td>\n",
       "      <td>-33.865</td>\n",
       "      <td>151.2094</td>\n",
       "      <td>Perth</td>\n",
       "      <td>-31.9522</td>\n",
       "      <td>115.8589</td>\n",
       "    </tr>\n",
       "    <tr>\n",
       "      <th>4</th>\n",
       "      <td>Sydney</td>\n",
       "      <td>-33.865</td>\n",
       "      <td>151.2094</td>\n",
       "      <td>Adelaide</td>\n",
       "      <td>-34.9289</td>\n",
       "      <td>138.6011</td>\n",
       "    </tr>\n",
       "  </tbody>\n",
       "</table>\n",
       "</div>"
      ],
      "text/plain": [
       "  location     lat       lng location_comp  lat_comp  lng_comp\n",
       "0   Sydney -33.865  151.2094        Sydney  -33.8650  151.2094\n",
       "1   Sydney -33.865  151.2094     Melbourne  -37.8136  144.9631\n",
       "2   Sydney -33.865  151.2094      Brisbane  -27.4678  153.0281\n",
       "3   Sydney -33.865  151.2094         Perth  -31.9522  115.8589\n",
       "4   Sydney -33.865  151.2094      Adelaide  -34.9289  138.6011"
      ]
     },
     "metadata": {},
     "execution_count": 17
    }
   ],
   "metadata": {}
  },
  {
   "cell_type": "code",
   "execution_count": null,
   "source": [
    "cross_data.loc[:, 'dist'] = (cross_data.loc[:, ''])"
   ],
   "outputs": [],
   "metadata": {}
  }
 ],
 "metadata": {
  "interpreter": {
   "hash": "515715d9c13c8691f0af7b8ccb64963aff30dd40252095c634f826815932d241"
  },
  "kernelspec": {
   "name": "python3",
   "display_name": "Python 3.9.4 64-bit ('base': conda)"
  },
  "language_info": {
   "codemirror_mode": {
    "name": "ipython",
    "version": 3
   },
   "file_extension": ".py",
   "mimetype": "text/x-python",
   "name": "python",
   "nbconvert_exporter": "python",
   "pygments_lexer": "ipython3",
   "version": "3.9.4"
  }
 },
 "nbformat": 4,
 "nbformat_minor": 2
}