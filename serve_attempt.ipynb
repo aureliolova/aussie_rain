{
 "cells": [
  {
   "cell_type": "code",
   "execution_count": 12,
   "source": [
    "import requests\r\n",
    "import pandas as pd"
   ],
   "outputs": [],
   "metadata": {}
  },
  {
   "cell_type": "code",
   "execution_count": 13,
   "source": [
    "import init"
   ],
   "outputs": [],
   "metadata": {}
  },
  {
   "cell_type": "code",
   "execution_count": 14,
   "source": [
    "URL = 'http://127.0.0.1:1244/invocations'\r\n",
    "HEADERS = {'Content-Type': 'application/json'}"
   ],
   "outputs": [],
   "metadata": {}
  },
  {
   "cell_type": "code",
   "execution_count": 15,
   "source": [
    "data = pd.read_csv('weatherAUS.csv')\r\n",
    "data.columns = [col.lower() for col in data.columns]"
   ],
   "outputs": [],
   "metadata": {}
  },
  {
   "cell_type": "code",
   "execution_count": 16,
   "source": [
    "SIZE = 1\r\n",
    "samp_features = data.sample(SIZE, replace=False).loc[:, init.NUMERIC_COLS + init.CATEGORICAL_COLS]\r\n",
    "samp_target = data.loc[samp_features.index, init.TARGET_COL]\r\n"
   ],
   "outputs": [],
   "metadata": {}
  },
  {
   "cell_type": "code",
   "execution_count": 17,
   "source": [
    "j_string = samp_features.to_json(orient='split', index=False)"
   ],
   "outputs": [],
   "metadata": {}
  },
  {
   "cell_type": "code",
   "execution_count": 18,
   "source": [
    "j_string"
   ],
   "outputs": [
    {
     "output_type": "execute_result",
     "data": {
      "text/plain": [
       "'{\"columns\":[\"mintemp\",\"maxtemp\",\"rainfall\",\"evaporation\",\"sunshine\",\"windgustspeed\",\"windspeed9am\",\"windspeed3pm\",\"humidity9am\",\"humidity3pm\",\"pressure9am\",\"pressure3pm\",\"cloud9am\",\"cloud3pm\",\"temp9am\",\"temp3pm\",\"location\",\"raintoday\"],\"data\":[[19.0,27.2,0.0,8.0,1.2,56.0,24.0,20.0,44.0,55.0,1014.9,1011.9,7.0,8.0,23.0,23.5,\"MelbourneAirport\",\"No\"]]}'"
      ]
     },
     "metadata": {},
     "execution_count": 18
    }
   ],
   "metadata": {}
  },
  {
   "cell_type": "code",
   "execution_count": 19,
   "source": [
    "response = requests.post(url=URL, data=j_string, headers=HEADERS)"
   ],
   "outputs": [],
   "metadata": {}
  },
  {
   "cell_type": "code",
   "execution_count": 20,
   "source": [
    "response"
   ],
   "outputs": [
    {
     "output_type": "execute_result",
     "data": {
      "text/plain": [
       "<Response [400]>"
      ]
     },
     "metadata": {},
     "execution_count": 20
    }
   ],
   "metadata": {}
  },
  {
   "cell_type": "code",
   "execution_count": 21,
   "source": [
    "print(response.text)"
   ],
   "outputs": [
    {
     "output_type": "stream",
     "name": "stdout",
     "text": [
      "{\"error_code\": \"BAD_REQUEST\", \"message\": \"Encountered an unexpected error while evaluating the model. Verify that the serialized input Dataframe is compatible with the model for inference.\", \"stack_trace\": \"Traceback (most recent call last):\\n  File \\\"c:\\\\users\\\\a0l05iw\\\\anaconda3\\\\lib\\\\site-packages\\\\mlflow\\\\pyfunc\\\\scoring_server\\\\__init__.py\\\", line 264, in transformation\\n    raw_predictions = model.predict(data)\\n  File \\\"c:\\\\users\\\\a0l05iw\\\\anaconda3\\\\lib\\\\site-packages\\\\mlflow\\\\pyfunc\\\\__init__.py\\\", line 596, in predict\\n    return self._model_impl.predict(data)\\n  File \\\"c:\\\\users\\\\a0l05iw\\\\anaconda3\\\\lib\\\\site-packages\\\\sklearn\\\\utils\\\\metaestimators.py\\\", line 120, in <lambda>\\n    out = lambda *args, **kwargs: self.fn(obj, *args, **kwargs)\\n  File \\\"c:\\\\users\\\\a0l05iw\\\\anaconda3\\\\lib\\\\site-packages\\\\sklearn\\\\pipeline.py\\\", line 418, in predict\\n    Xt = transform.transform(Xt)\\n  File \\\"c:\\\\users\\\\a0l05iw\\\\anaconda3\\\\lib\\\\site-packages\\\\sklearn\\\\pipeline.py\\\", line 560, in _transform\\n    Xt = transform.transform(Xt)\\n  File \\\"c:\\\\users\\\\a0l05iw\\\\anaconda3\\\\lib\\\\site-packages\\\\sklearn\\\\compose\\\\_column_transformer.py\\\", line 557, in transform\\n    self._check_n_features(X, reset=False)\\n  File \\\"c:\\\\users\\\\a0l05iw\\\\anaconda3\\\\lib\\\\site-packages\\\\sklearn\\\\base.py\\\", line 365, in _check_n_features\\n    raise ValueError(\\nValueError: X has 18 features, but ColumnTransformer is expecting 14 features as input.\\n\"}\n"
     ]
    }
   ],
   "metadata": {}
  },
  {
   "cell_type": "code",
   "execution_count": 29,
   "source": [
    "samp_target"
   ],
   "outputs": [
    {
     "output_type": "execute_result",
     "data": {
      "text/plain": [
       "112216    Yes\n",
       "Name: raintomorrow, dtype: object"
      ]
     },
     "metadata": {},
     "execution_count": 29
    }
   ],
   "metadata": {}
  },
  {
   "cell_type": "code",
   "execution_count": null,
   "source": [],
   "outputs": [],
   "metadata": {}
  }
 ],
 "metadata": {
  "orig_nbformat": 4,
  "language_info": {
   "name": "python",
   "version": "3.9.4",
   "mimetype": "text/x-python",
   "codemirror_mode": {
    "name": "ipython",
    "version": 3
   },
   "pygments_lexer": "ipython3",
   "nbconvert_exporter": "python",
   "file_extension": ".py"
  },
  "kernelspec": {
   "name": "python3",
   "display_name": "Python 3.9.4 64-bit ('base': conda)"
  },
  "interpreter": {
   "hash": "515715d9c13c8691f0af7b8ccb64963aff30dd40252095c634f826815932d241"
  }
 },
 "nbformat": 4,
 "nbformat_minor": 2
}